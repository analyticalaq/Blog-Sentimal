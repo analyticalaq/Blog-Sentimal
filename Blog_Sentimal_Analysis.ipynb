{
  "nbformat": 4,
  "nbformat_minor": 0,
  "metadata": {
    "colab": {
      "provenance": [],
      "mount_file_id": "1HoBgK36VI99iFWGRTDs5uN6eexzCZvVL",
      "authorship_tag": "ABX9TyM5pFq4afkOQgFm8THPKw4J",
      "include_colab_link": true
    },
    "kernelspec": {
      "name": "python3",
      "display_name": "Python 3"
    },
    "language_info": {
      "name": "python"
    }
  },
  "cells": [
    {
      "cell_type": "markdown",
      "metadata": {
        "id": "view-in-github",
        "colab_type": "text"
      },
      "source": [
        "<a href=\"https://colab.research.google.com/github/analyticalaq/Blog-Sentimal/blob/main/Blog_Sentimal_Analysis.ipynb\" target=\"_parent\"><img src=\"https://colab.research.google.com/assets/colab-badge.svg\" alt=\"Open In Colab\"/></a>"
      ]
    },
    {
      "cell_type": "code",
      "execution_count": null,
      "metadata": {
        "id": "BSzpj0-eqn1T"
      },
      "outputs": [],
      "source": [
        "import pandas as pd"
      ]
    },
    {
      "cell_type": "code",
      "source": [
        "pip install vaderSentiment"
      ],
      "metadata": {
        "colab": {
          "base_uri": "https://localhost:8080/"
        },
        "id": "8C_IfOK0DudO",
        "outputId": "a3981ea6-dbc2-4691-f0d7-94c783059ee7"
      },
      "execution_count": null,
      "outputs": [
        {
          "output_type": "stream",
          "name": "stdout",
          "text": [
            "Looking in indexes: https://pypi.org/simple, https://us-python.pkg.dev/colab-wheels/public/simple/\n",
            "Collecting vaderSentiment\n",
            "  Downloading vaderSentiment-3.3.2-py2.py3-none-any.whl (125 kB)\n",
            "\u001b[K     |████████████████████████████████| 125 kB 7.4 MB/s \n",
            "\u001b[?25hRequirement already satisfied: requests in /usr/local/lib/python3.7/dist-packages (from vaderSentiment) (2.23.0)\n",
            "Requirement already satisfied: certifi>=2017.4.17 in /usr/local/lib/python3.7/dist-packages (from requests->vaderSentiment) (2022.6.15)\n",
            "Requirement already satisfied: idna<3,>=2.5 in /usr/local/lib/python3.7/dist-packages (from requests->vaderSentiment) (2.10)\n",
            "Requirement already satisfied: urllib3!=1.25.0,!=1.25.1,<1.26,>=1.21.1 in /usr/local/lib/python3.7/dist-packages (from requests->vaderSentiment) (1.24.3)\n",
            "Requirement already satisfied: chardet<4,>=3.0.2 in /usr/local/lib/python3.7/dist-packages (from requests->vaderSentiment) (3.0.4)\n",
            "Installing collected packages: vaderSentiment\n",
            "Successfully installed vaderSentiment-3.3.2\n"
          ]
        }
      ]
    },
    {
      "cell_type": "code",
      "source": [
        "from vaderSentiment.vaderSentiment import SentimentIntensityAnalyzer"
      ],
      "metadata": {
        "id": "DInGW_tsDUZX"
      },
      "execution_count": null,
      "outputs": []
    },
    {
      "cell_type": "markdown",
      "source": [
        "**Read csv and excel file**"
      ],
      "metadata": {
        "id": "dbhbjNlFraOb"
      }
    },
    {
      "cell_type": "code",
      "source": [
        "data=pd.read_excel('/content/drive/MyDrive/Blog Sentimetal Analysis/articles.xlsx')"
      ],
      "metadata": {
        "id": "XzMLjXVxqtOq"
      },
      "execution_count": null,
      "outputs": []
    },
    {
      "cell_type": "markdown",
      "source": [
        "**Data summery**"
      ],
      "metadata": {
        "id": "n0hgQAWbsXtN"
      }
    },
    {
      "cell_type": "code",
      "source": [
        "data.describe()"
      ],
      "metadata": {
        "colab": {
          "base_uri": "https://localhost:8080/",
          "height": 364
        },
        "id": "EDO_uorCqtQr",
        "outputId": "642c7cf6-1f91-48a1-925c-55d46fb71975"
      },
      "execution_count": null,
      "outputs": [
        {
          "output_type": "execute_result",
          "data": {
            "text/plain": [
              "         article_id   top_article  engagement_reaction_count  \\\n",
              "count  10437.000000  10435.000000               10319.000000   \n",
              "mean    5218.000000      0.122089                 381.395290   \n",
              "std     3013.046714      0.327404                4433.344792   \n",
              "min        0.000000      0.000000                   0.000000   \n",
              "25%     2609.000000      0.000000                   0.000000   \n",
              "50%     5218.000000      0.000000                   1.000000   \n",
              "75%     7827.000000      0.000000                  43.000000   \n",
              "max    10436.000000      1.000000              354132.000000   \n",
              "\n",
              "       engagement_comment_count  engagement_share_count  \\\n",
              "count              10319.000000            10319.000000   \n",
              "mean                 124.032949              196.236263   \n",
              "std                  965.351188             1020.680229   \n",
              "min                    0.000000                0.000000   \n",
              "25%                    0.000000                1.000000   \n",
              "50%                    0.000000                8.000000   \n",
              "75%                   12.000000               47.500000   \n",
              "max                48490.000000            39422.000000   \n",
              "\n",
              "       engagement_comment_plugin_count  \n",
              "count                     10319.000000  \n",
              "mean                          0.011629  \n",
              "std                           0.268276  \n",
              "min                           0.000000  \n",
              "25%                           0.000000  \n",
              "50%                           0.000000  \n",
              "75%                           0.000000  \n",
              "max                          15.000000  "
            ],
            "text/html": [
              "\n",
              "  <div id=\"df-9a84149a-8eff-421b-b610-4233fac29e29\">\n",
              "    <div class=\"colab-df-container\">\n",
              "      <div>\n",
              "<style scoped>\n",
              "    .dataframe tbody tr th:only-of-type {\n",
              "        vertical-align: middle;\n",
              "    }\n",
              "\n",
              "    .dataframe tbody tr th {\n",
              "        vertical-align: top;\n",
              "    }\n",
              "\n",
              "    .dataframe thead th {\n",
              "        text-align: right;\n",
              "    }\n",
              "</style>\n",
              "<table border=\"1\" class=\"dataframe\">\n",
              "  <thead>\n",
              "    <tr style=\"text-align: right;\">\n",
              "      <th></th>\n",
              "      <th>article_id</th>\n",
              "      <th>top_article</th>\n",
              "      <th>engagement_reaction_count</th>\n",
              "      <th>engagement_comment_count</th>\n",
              "      <th>engagement_share_count</th>\n",
              "      <th>engagement_comment_plugin_count</th>\n",
              "    </tr>\n",
              "  </thead>\n",
              "  <tbody>\n",
              "    <tr>\n",
              "      <th>count</th>\n",
              "      <td>10437.000000</td>\n",
              "      <td>10435.000000</td>\n",
              "      <td>10319.000000</td>\n",
              "      <td>10319.000000</td>\n",
              "      <td>10319.000000</td>\n",
              "      <td>10319.000000</td>\n",
              "    </tr>\n",
              "    <tr>\n",
              "      <th>mean</th>\n",
              "      <td>5218.000000</td>\n",
              "      <td>0.122089</td>\n",
              "      <td>381.395290</td>\n",
              "      <td>124.032949</td>\n",
              "      <td>196.236263</td>\n",
              "      <td>0.011629</td>\n",
              "    </tr>\n",
              "    <tr>\n",
              "      <th>std</th>\n",
              "      <td>3013.046714</td>\n",
              "      <td>0.327404</td>\n",
              "      <td>4433.344792</td>\n",
              "      <td>965.351188</td>\n",
              "      <td>1020.680229</td>\n",
              "      <td>0.268276</td>\n",
              "    </tr>\n",
              "    <tr>\n",
              "      <th>min</th>\n",
              "      <td>0.000000</td>\n",
              "      <td>0.000000</td>\n",
              "      <td>0.000000</td>\n",
              "      <td>0.000000</td>\n",
              "      <td>0.000000</td>\n",
              "      <td>0.000000</td>\n",
              "    </tr>\n",
              "    <tr>\n",
              "      <th>25%</th>\n",
              "      <td>2609.000000</td>\n",
              "      <td>0.000000</td>\n",
              "      <td>0.000000</td>\n",
              "      <td>0.000000</td>\n",
              "      <td>1.000000</td>\n",
              "      <td>0.000000</td>\n",
              "    </tr>\n",
              "    <tr>\n",
              "      <th>50%</th>\n",
              "      <td>5218.000000</td>\n",
              "      <td>0.000000</td>\n",
              "      <td>1.000000</td>\n",
              "      <td>0.000000</td>\n",
              "      <td>8.000000</td>\n",
              "      <td>0.000000</td>\n",
              "    </tr>\n",
              "    <tr>\n",
              "      <th>75%</th>\n",
              "      <td>7827.000000</td>\n",
              "      <td>0.000000</td>\n",
              "      <td>43.000000</td>\n",
              "      <td>12.000000</td>\n",
              "      <td>47.500000</td>\n",
              "      <td>0.000000</td>\n",
              "    </tr>\n",
              "    <tr>\n",
              "      <th>max</th>\n",
              "      <td>10436.000000</td>\n",
              "      <td>1.000000</td>\n",
              "      <td>354132.000000</td>\n",
              "      <td>48490.000000</td>\n",
              "      <td>39422.000000</td>\n",
              "      <td>15.000000</td>\n",
              "    </tr>\n",
              "  </tbody>\n",
              "</table>\n",
              "</div>\n",
              "      <button class=\"colab-df-convert\" onclick=\"convertToInteractive('df-9a84149a-8eff-421b-b610-4233fac29e29')\"\n",
              "              title=\"Convert this dataframe to an interactive table.\"\n",
              "              style=\"display:none;\">\n",
              "        \n",
              "  <svg xmlns=\"http://www.w3.org/2000/svg\" height=\"24px\"viewBox=\"0 0 24 24\"\n",
              "       width=\"24px\">\n",
              "    <path d=\"M0 0h24v24H0V0z\" fill=\"none\"/>\n",
              "    <path d=\"M18.56 5.44l.94 2.06.94-2.06 2.06-.94-2.06-.94-.94-2.06-.94 2.06-2.06.94zm-11 1L8.5 8.5l.94-2.06 2.06-.94-2.06-.94L8.5 2.5l-.94 2.06-2.06.94zm10 10l.94 2.06.94-2.06 2.06-.94-2.06-.94-.94-2.06-.94 2.06-2.06.94z\"/><path d=\"M17.41 7.96l-1.37-1.37c-.4-.4-.92-.59-1.43-.59-.52 0-1.04.2-1.43.59L10.3 9.45l-7.72 7.72c-.78.78-.78 2.05 0 2.83L4 21.41c.39.39.9.59 1.41.59.51 0 1.02-.2 1.41-.59l7.78-7.78 2.81-2.81c.8-.78.8-2.07 0-2.86zM5.41 20L4 18.59l7.72-7.72 1.47 1.35L5.41 20z\"/>\n",
              "  </svg>\n",
              "      </button>\n",
              "      \n",
              "  <style>\n",
              "    .colab-df-container {\n",
              "      display:flex;\n",
              "      flex-wrap:wrap;\n",
              "      gap: 12px;\n",
              "    }\n",
              "\n",
              "    .colab-df-convert {\n",
              "      background-color: #E8F0FE;\n",
              "      border: none;\n",
              "      border-radius: 50%;\n",
              "      cursor: pointer;\n",
              "      display: none;\n",
              "      fill: #1967D2;\n",
              "      height: 32px;\n",
              "      padding: 0 0 0 0;\n",
              "      width: 32px;\n",
              "    }\n",
              "\n",
              "    .colab-df-convert:hover {\n",
              "      background-color: #E2EBFA;\n",
              "      box-shadow: 0px 1px 2px rgba(60, 64, 67, 0.3), 0px 1px 3px 1px rgba(60, 64, 67, 0.15);\n",
              "      fill: #174EA6;\n",
              "    }\n",
              "\n",
              "    [theme=dark] .colab-df-convert {\n",
              "      background-color: #3B4455;\n",
              "      fill: #D2E3FC;\n",
              "    }\n",
              "\n",
              "    [theme=dark] .colab-df-convert:hover {\n",
              "      background-color: #434B5C;\n",
              "      box-shadow: 0px 1px 3px 1px rgba(0, 0, 0, 0.15);\n",
              "      filter: drop-shadow(0px 1px 2px rgba(0, 0, 0, 0.3));\n",
              "      fill: #FFFFFF;\n",
              "    }\n",
              "  </style>\n",
              "\n",
              "      <script>\n",
              "        const buttonEl =\n",
              "          document.querySelector('#df-9a84149a-8eff-421b-b610-4233fac29e29 button.colab-df-convert');\n",
              "        buttonEl.style.display =\n",
              "          google.colab.kernel.accessAllowed ? 'block' : 'none';\n",
              "\n",
              "        async function convertToInteractive(key) {\n",
              "          const element = document.querySelector('#df-9a84149a-8eff-421b-b610-4233fac29e29');\n",
              "          const dataTable =\n",
              "            await google.colab.kernel.invokeFunction('convertToInteractive',\n",
              "                                                     [key], {});\n",
              "          if (!dataTable) return;\n",
              "\n",
              "          const docLinkHtml = 'Like what you see? Visit the ' +\n",
              "            '<a target=\"_blank\" href=https://colab.research.google.com/notebooks/data_table.ipynb>data table notebook</a>'\n",
              "            + ' to learn more about interactive tables.';\n",
              "          element.innerHTML = '';\n",
              "          dataTable['output_type'] = 'display_data';\n",
              "          await google.colab.output.renderOutput(dataTable, element);\n",
              "          const docLink = document.createElement('div');\n",
              "          docLink.innerHTML = docLinkHtml;\n",
              "          element.appendChild(docLink);\n",
              "        }\n",
              "      </script>\n",
              "    </div>\n",
              "  </div>\n",
              "  "
            ]
          },
          "metadata": {},
          "execution_count": 13
        }
      ]
    },
    {
      "cell_type": "markdown",
      "source": [
        "**Summery of columns**"
      ],
      "metadata": {
        "id": "uh3uueHbsjOr"
      }
    },
    {
      "cell_type": "code",
      "source": [
        "data.info()"
      ],
      "metadata": {
        "colab": {
          "base_uri": "https://localhost:8080/"
        },
        "id": "pjntMmviqtSh",
        "outputId": "4870dac1-a779-438d-e7c8-6913c5778ef1"
      },
      "execution_count": null,
      "outputs": [
        {
          "output_type": "stream",
          "name": "stdout",
          "text": [
            "<class 'pandas.core.frame.DataFrame'>\n",
            "RangeIndex: 10437 entries, 0 to 10436\n",
            "Data columns (total 15 columns):\n",
            " #   Column                           Non-Null Count  Dtype  \n",
            "---  ------                           --------------  -----  \n",
            " 0   article_id                       10437 non-null  int64  \n",
            " 1   source_id                        10437 non-null  object \n",
            " 2   source_name                      10437 non-null  object \n",
            " 3   author                           9417 non-null   object \n",
            " 4   title                            10435 non-null  object \n",
            " 5   description                      10413 non-null  object \n",
            " 6   url                              10436 non-null  object \n",
            " 7   url_to_image                     9781 non-null   object \n",
            " 8   published_at                     10436 non-null  object \n",
            " 9   content                          9145 non-null   object \n",
            " 10  top_article                      10435 non-null  float64\n",
            " 11  engagement_reaction_count        10319 non-null  float64\n",
            " 12  engagement_comment_count         10319 non-null  float64\n",
            " 13  engagement_share_count           10319 non-null  float64\n",
            " 14  engagement_comment_plugin_count  10319 non-null  float64\n",
            "dtypes: float64(5), int64(1), object(9)\n",
            "memory usage: 1.2+ MB\n"
          ]
        }
      ]
    },
    {
      "cell_type": "code",
      "source": [
        "data.head()"
      ],
      "metadata": {
        "colab": {
          "base_uri": "https://localhost:8080/",
          "height": 600
        },
        "id": "KHyRwNO_vQG3",
        "outputId": "c7abecfc-8b34-4ebc-9581-f968f47d908b"
      },
      "execution_count": null,
      "outputs": [
        {
          "output_type": "execute_result",
          "data": {
            "text/plain": [
              "   article_id           source_id         source_name              author  \\\n",
              "0           0             reuters             Reuters   Reuters Editorial   \n",
              "1           1     the-irish-times     The Irish Times  Eoin Burke-Kennedy   \n",
              "2           2     the-irish-times     The Irish Times   Deirdre McQuillan   \n",
              "3           3  al-jazeera-english  Al Jazeera English          Al Jazeera   \n",
              "4           4            bbc-news            BBC News            BBC News   \n",
              "\n",
              "                                               title  \\\n",
              "0  NTSB says Autopilot engaged in 2018 California...   \n",
              "1       Unemployment falls to post-crash low of 5.2%   \n",
              "2  Louise Kennedy AW2019: Long coats, sparkling t...   \n",
              "3  North Korean footballer Han joins Italian gian...   \n",
              "4  UK government lawyer says proroguing parliamen...   \n",
              "\n",
              "                                         description  \\\n",
              "0  The National Transportation Safety Board said ...   \n",
              "1  Latest monthly figures reflect continued growt...   \n",
              "2  Autumn-winter collection features designer’s g...   \n",
              "3  Han is the first North Korean player in the Se...   \n",
              "4  The UK government's lawyer, David Johnston arg...   \n",
              "\n",
              "                                                 url  \\\n",
              "0  https://www.reuters.com/article/us-tesla-crash...   \n",
              "1  https://www.irishtimes.com/business/economy/un...   \n",
              "2  https://www.irishtimes.com/\\t\\t\\t\\t\\t\\t\\t/life...   \n",
              "3  https://www.aljazeera.com/news/2019/09/north-k...   \n",
              "4  https://www.bbc.co.uk/news/av/uk-scotland-4956...   \n",
              "\n",
              "                                        url_to_image          published_at  \\\n",
              "0  https://s4.reutersmedia.net/resources/r/?m=02&...  2019-09-03T16:22:20Z   \n",
              "1  https://www.irishtimes.com/image-creator/?id=1...  2019-09-03T10:32:28Z   \n",
              "2  https://www.irishtimes.com/image-creator/?id=1...  2019-09-03T14:40:00Z   \n",
              "3  https://www.aljazeera.com/mritems/Images/2019/...  2019-09-03T17:25:39Z   \n",
              "4  https://ichef.bbci.co.uk/news/1024/branded_new...  2019-09-03T14:39:21Z   \n",
              "\n",
              "                                             content  top_article  \\\n",
              "0  WASHINGTON (Reuters) - The National Transporta...          0.0   \n",
              "1  The States jobless rate fell to 5.2 per cent l...          0.0   \n",
              "2  Louise Kennedy is showing off her autumn-winte...          1.0   \n",
              "3  Han Kwang Song, the first North Korean footbal...          0.0   \n",
              "4                                                NaN          0.0   \n",
              "\n",
              "   engagement_reaction_count  engagement_comment_count  \\\n",
              "0                        0.0                       0.0   \n",
              "1                        6.0                      10.0   \n",
              "2                        NaN                       NaN   \n",
              "3                        0.0                       0.0   \n",
              "4                        0.0                       0.0   \n",
              "\n",
              "   engagement_share_count  keyword_flag  title_neg_sentiment  \\\n",
              "0                  2528.0           0.0                0.218   \n",
              "1                     2.0           0.0                0.500   \n",
              "2                     NaN           0.0                0.000   \n",
              "3                     7.0           0.0                0.000   \n",
              "4                     0.0           0.0                0.146   \n",
              "\n",
              "   title_pos_sentiment  title_neu_sentiment  \n",
              "0                0.218                0.565  \n",
              "1                0.000                0.500  \n",
              "2                0.180                0.820  \n",
              "3                0.000                1.000  \n",
              "4                0.000                0.854  "
            ],
            "text/html": [
              "\n",
              "  <div id=\"df-0eb37f77-b1a7-4bd9-984b-0033c52e0207\">\n",
              "    <div class=\"colab-df-container\">\n",
              "      <div>\n",
              "<style scoped>\n",
              "    .dataframe tbody tr th:only-of-type {\n",
              "        vertical-align: middle;\n",
              "    }\n",
              "\n",
              "    .dataframe tbody tr th {\n",
              "        vertical-align: top;\n",
              "    }\n",
              "\n",
              "    .dataframe thead th {\n",
              "        text-align: right;\n",
              "    }\n",
              "</style>\n",
              "<table border=\"1\" class=\"dataframe\">\n",
              "  <thead>\n",
              "    <tr style=\"text-align: right;\">\n",
              "      <th></th>\n",
              "      <th>article_id</th>\n",
              "      <th>source_id</th>\n",
              "      <th>source_name</th>\n",
              "      <th>author</th>\n",
              "      <th>title</th>\n",
              "      <th>description</th>\n",
              "      <th>url</th>\n",
              "      <th>url_to_image</th>\n",
              "      <th>published_at</th>\n",
              "      <th>content</th>\n",
              "      <th>top_article</th>\n",
              "      <th>engagement_reaction_count</th>\n",
              "      <th>engagement_comment_count</th>\n",
              "      <th>engagement_share_count</th>\n",
              "      <th>keyword_flag</th>\n",
              "      <th>title_neg_sentiment</th>\n",
              "      <th>title_pos_sentiment</th>\n",
              "      <th>title_neu_sentiment</th>\n",
              "    </tr>\n",
              "  </thead>\n",
              "  <tbody>\n",
              "    <tr>\n",
              "      <th>0</th>\n",
              "      <td>0</td>\n",
              "      <td>reuters</td>\n",
              "      <td>Reuters</td>\n",
              "      <td>Reuters Editorial</td>\n",
              "      <td>NTSB says Autopilot engaged in 2018 California...</td>\n",
              "      <td>The National Transportation Safety Board said ...</td>\n",
              "      <td>https://www.reuters.com/article/us-tesla-crash...</td>\n",
              "      <td>https://s4.reutersmedia.net/resources/r/?m=02&amp;...</td>\n",
              "      <td>2019-09-03T16:22:20Z</td>\n",
              "      <td>WASHINGTON (Reuters) - The National Transporta...</td>\n",
              "      <td>0.0</td>\n",
              "      <td>0.0</td>\n",
              "      <td>0.0</td>\n",
              "      <td>2528.0</td>\n",
              "      <td>0.0</td>\n",
              "      <td>0.218</td>\n",
              "      <td>0.218</td>\n",
              "      <td>0.565</td>\n",
              "    </tr>\n",
              "    <tr>\n",
              "      <th>1</th>\n",
              "      <td>1</td>\n",
              "      <td>the-irish-times</td>\n",
              "      <td>The Irish Times</td>\n",
              "      <td>Eoin Burke-Kennedy</td>\n",
              "      <td>Unemployment falls to post-crash low of 5.2%</td>\n",
              "      <td>Latest monthly figures reflect continued growt...</td>\n",
              "      <td>https://www.irishtimes.com/business/economy/un...</td>\n",
              "      <td>https://www.irishtimes.com/image-creator/?id=1...</td>\n",
              "      <td>2019-09-03T10:32:28Z</td>\n",
              "      <td>The States jobless rate fell to 5.2 per cent l...</td>\n",
              "      <td>0.0</td>\n",
              "      <td>6.0</td>\n",
              "      <td>10.0</td>\n",
              "      <td>2.0</td>\n",
              "      <td>0.0</td>\n",
              "      <td>0.500</td>\n",
              "      <td>0.000</td>\n",
              "      <td>0.500</td>\n",
              "    </tr>\n",
              "    <tr>\n",
              "      <th>2</th>\n",
              "      <td>2</td>\n",
              "      <td>the-irish-times</td>\n",
              "      <td>The Irish Times</td>\n",
              "      <td>Deirdre McQuillan</td>\n",
              "      <td>Louise Kennedy AW2019: Long coats, sparkling t...</td>\n",
              "      <td>Autumn-winter collection features designer’s g...</td>\n",
              "      <td>https://www.irishtimes.com/\\t\\t\\t\\t\\t\\t\\t/life...</td>\n",
              "      <td>https://www.irishtimes.com/image-creator/?id=1...</td>\n",
              "      <td>2019-09-03T14:40:00Z</td>\n",
              "      <td>Louise Kennedy is showing off her autumn-winte...</td>\n",
              "      <td>1.0</td>\n",
              "      <td>NaN</td>\n",
              "      <td>NaN</td>\n",
              "      <td>NaN</td>\n",
              "      <td>0.0</td>\n",
              "      <td>0.000</td>\n",
              "      <td>0.180</td>\n",
              "      <td>0.820</td>\n",
              "    </tr>\n",
              "    <tr>\n",
              "      <th>3</th>\n",
              "      <td>3</td>\n",
              "      <td>al-jazeera-english</td>\n",
              "      <td>Al Jazeera English</td>\n",
              "      <td>Al Jazeera</td>\n",
              "      <td>North Korean footballer Han joins Italian gian...</td>\n",
              "      <td>Han is the first North Korean player in the Se...</td>\n",
              "      <td>https://www.aljazeera.com/news/2019/09/north-k...</td>\n",
              "      <td>https://www.aljazeera.com/mritems/Images/2019/...</td>\n",
              "      <td>2019-09-03T17:25:39Z</td>\n",
              "      <td>Han Kwang Song, the first North Korean footbal...</td>\n",
              "      <td>0.0</td>\n",
              "      <td>0.0</td>\n",
              "      <td>0.0</td>\n",
              "      <td>7.0</td>\n",
              "      <td>0.0</td>\n",
              "      <td>0.000</td>\n",
              "      <td>0.000</td>\n",
              "      <td>1.000</td>\n",
              "    </tr>\n",
              "    <tr>\n",
              "      <th>4</th>\n",
              "      <td>4</td>\n",
              "      <td>bbc-news</td>\n",
              "      <td>BBC News</td>\n",
              "      <td>BBC News</td>\n",
              "      <td>UK government lawyer says proroguing parliamen...</td>\n",
              "      <td>The UK government's lawyer, David Johnston arg...</td>\n",
              "      <td>https://www.bbc.co.uk/news/av/uk-scotland-4956...</td>\n",
              "      <td>https://ichef.bbci.co.uk/news/1024/branded_new...</td>\n",
              "      <td>2019-09-03T14:39:21Z</td>\n",
              "      <td>NaN</td>\n",
              "      <td>0.0</td>\n",
              "      <td>0.0</td>\n",
              "      <td>0.0</td>\n",
              "      <td>0.0</td>\n",
              "      <td>0.0</td>\n",
              "      <td>0.146</td>\n",
              "      <td>0.000</td>\n",
              "      <td>0.854</td>\n",
              "    </tr>\n",
              "  </tbody>\n",
              "</table>\n",
              "</div>\n",
              "      <button class=\"colab-df-convert\" onclick=\"convertToInteractive('df-0eb37f77-b1a7-4bd9-984b-0033c52e0207')\"\n",
              "              title=\"Convert this dataframe to an interactive table.\"\n",
              "              style=\"display:none;\">\n",
              "        \n",
              "  <svg xmlns=\"http://www.w3.org/2000/svg\" height=\"24px\"viewBox=\"0 0 24 24\"\n",
              "       width=\"24px\">\n",
              "    <path d=\"M0 0h24v24H0V0z\" fill=\"none\"/>\n",
              "    <path d=\"M18.56 5.44l.94 2.06.94-2.06 2.06-.94-2.06-.94-.94-2.06-.94 2.06-2.06.94zm-11 1L8.5 8.5l.94-2.06 2.06-.94-2.06-.94L8.5 2.5l-.94 2.06-2.06.94zm10 10l.94 2.06.94-2.06 2.06-.94-2.06-.94-.94-2.06-.94 2.06-2.06.94z\"/><path d=\"M17.41 7.96l-1.37-1.37c-.4-.4-.92-.59-1.43-.59-.52 0-1.04.2-1.43.59L10.3 9.45l-7.72 7.72c-.78.78-.78 2.05 0 2.83L4 21.41c.39.39.9.59 1.41.59.51 0 1.02-.2 1.41-.59l7.78-7.78 2.81-2.81c.8-.78.8-2.07 0-2.86zM5.41 20L4 18.59l7.72-7.72 1.47 1.35L5.41 20z\"/>\n",
              "  </svg>\n",
              "      </button>\n",
              "      \n",
              "  <style>\n",
              "    .colab-df-container {\n",
              "      display:flex;\n",
              "      flex-wrap:wrap;\n",
              "      gap: 12px;\n",
              "    }\n",
              "\n",
              "    .colab-df-convert {\n",
              "      background-color: #E8F0FE;\n",
              "      border: none;\n",
              "      border-radius: 50%;\n",
              "      cursor: pointer;\n",
              "      display: none;\n",
              "      fill: #1967D2;\n",
              "      height: 32px;\n",
              "      padding: 0 0 0 0;\n",
              "      width: 32px;\n",
              "    }\n",
              "\n",
              "    .colab-df-convert:hover {\n",
              "      background-color: #E2EBFA;\n",
              "      box-shadow: 0px 1px 2px rgba(60, 64, 67, 0.3), 0px 1px 3px 1px rgba(60, 64, 67, 0.15);\n",
              "      fill: #174EA6;\n",
              "    }\n",
              "\n",
              "    [theme=dark] .colab-df-convert {\n",
              "      background-color: #3B4455;\n",
              "      fill: #D2E3FC;\n",
              "    }\n",
              "\n",
              "    [theme=dark] .colab-df-convert:hover {\n",
              "      background-color: #434B5C;\n",
              "      box-shadow: 0px 1px 3px 1px rgba(0, 0, 0, 0.15);\n",
              "      filter: drop-shadow(0px 1px 2px rgba(0, 0, 0, 0.3));\n",
              "      fill: #FFFFFF;\n",
              "    }\n",
              "  </style>\n",
              "\n",
              "      <script>\n",
              "        const buttonEl =\n",
              "          document.querySelector('#df-0eb37f77-b1a7-4bd9-984b-0033c52e0207 button.colab-df-convert');\n",
              "        buttonEl.style.display =\n",
              "          google.colab.kernel.accessAllowed ? 'block' : 'none';\n",
              "\n",
              "        async function convertToInteractive(key) {\n",
              "          const element = document.querySelector('#df-0eb37f77-b1a7-4bd9-984b-0033c52e0207');\n",
              "          const dataTable =\n",
              "            await google.colab.kernel.invokeFunction('convertToInteractive',\n",
              "                                                     [key], {});\n",
              "          if (!dataTable) return;\n",
              "\n",
              "          const docLinkHtml = 'Like what you see? Visit the ' +\n",
              "            '<a target=\"_blank\" href=https://colab.research.google.com/notebooks/data_table.ipynb>data table notebook</a>'\n",
              "            + ' to learn more about interactive tables.';\n",
              "          element.innerHTML = '';\n",
              "          dataTable['output_type'] = 'display_data';\n",
              "          await google.colab.output.renderOutput(dataTable, element);\n",
              "          const docLink = document.createElement('div');\n",
              "          docLink.innerHTML = docLinkHtml;\n",
              "          element.appendChild(docLink);\n",
              "        }\n",
              "      </script>\n",
              "    </div>\n",
              "  </div>\n",
              "  "
            ]
          },
          "metadata": {},
          "execution_count": 40
        }
      ]
    },
    {
      "cell_type": "markdown",
      "source": [
        "**Counting the number of articles per source**"
      ],
      "metadata": {
        "id": "W47_gaHTuLF7"
      }
    },
    {
      "cell_type": "code",
      "source": [
        "data.groupby(['source_id'])['article_id'].count()"
      ],
      "metadata": {
        "colab": {
          "base_uri": "https://localhost:8080/"
        },
        "id": "lUX4czh6qtUf",
        "outputId": "a70b3b68-df9a-4aab-f1c7-4173d8552d2d"
      },
      "execution_count": null,
      "outputs": [
        {
          "output_type": "execute_result",
          "data": {
            "text/plain": [
              "source_id\n",
              "1                             1\n",
              "abc-news                   1139\n",
              "al-jazeera-english          499\n",
              "bbc-news                   1242\n",
              "business-insider           1048\n",
              "cbs-news                    952\n",
              "cnn                        1132\n",
              "espn                         82\n",
              "newsweek                    539\n",
              "reuters                    1252\n",
              "the-irish-times            1232\n",
              "the-new-york-times          986\n",
              "the-wall-street-journal     333\n",
              "Name: article_id, dtype: int64"
            ]
          },
          "metadata": {},
          "execution_count": 16
        }
      ]
    },
    {
      "cell_type": "markdown",
      "source": [
        "**Number of reaction by publisher**"
      ],
      "metadata": {
        "id": "UEOskokcwdMG"
      }
    },
    {
      "cell_type": "code",
      "source": [
        "data.groupby(['source_id'])['engagement_reaction_count'].sum()"
      ],
      "metadata": {
        "colab": {
          "base_uri": "https://localhost:8080/"
        },
        "id": "K0RpNtwfqtWz",
        "outputId": "dd1502a5-aa44-4fb2-d0f7-0f0f688b5189"
      },
      "execution_count": null,
      "outputs": [
        {
          "output_type": "execute_result",
          "data": {
            "text/plain": [
              "source_id\n",
              "1                                0.0\n",
              "abc-news                    343779.0\n",
              "al-jazeera-english          140410.0\n",
              "bbc-news                    545396.0\n",
              "business-insider            216545.0\n",
              "cbs-news                    459741.0\n",
              "cnn                        1218206.0\n",
              "espn                             0.0\n",
              "newsweek                     93167.0\n",
              "reuters                      16963.0\n",
              "the-irish-times              26838.0\n",
              "the-new-york-times          790449.0\n",
              "the-wall-street-journal      84124.0\n",
              "Name: engagement_reaction_count, dtype: float64"
            ]
          },
          "metadata": {},
          "execution_count": 19
        }
      ]
    },
    {
      "cell_type": "markdown",
      "source": [
        "**Dropping a column**"
      ],
      "metadata": {
        "id": "kqNIqR-HxqDL"
      }
    },
    {
      "cell_type": "code",
      "source": [
        "data=data.drop('engagement_comment_plugin_count', axis=1)"
      ],
      "metadata": {
        "id": "fWCfs9GFqtZ0"
      },
      "execution_count": null,
      "outputs": []
    },
    {
      "cell_type": "markdown",
      "source": [
        "**Creating Flag**"
      ],
      "metadata": {
        "id": "grJPy-6U2LT7"
      }
    },
    {
      "cell_type": "markdown",
      "source": [
        "**lets create for loop to isolate each title row**"
      ],
      "metadata": {
        "id": "n2XShQdy2V8k"
      }
    },
    {
      "cell_type": "code",
      "source": [
        "keyword='crash'\n",
        "length=len(data)\n",
        "keyword_flag=[]\n",
        "for x in range(0,length):\n",
        "  heading=data['title'][x]\n",
        "  if keyword in heading:\n",
        "    flag=1\n",
        "  else:\n",
        "    flag=0\n",
        "  keyword_flag.append(flag)"
      ],
      "metadata": {
        "colab": {
          "base_uri": "https://localhost:8080/",
          "height": 235
        },
        "id": "fK9VFG8myYOP",
        "outputId": "148e2410-7a17-422d-8c64-1bfa412ff379"
      },
      "execution_count": null,
      "outputs": [
        {
          "output_type": "error",
          "ename": "TypeError",
          "evalue": "ignored",
          "traceback": [
            "\u001b[0;31m---------------------------------------------------------------------------\u001b[0m",
            "\u001b[0;31mTypeError\u001b[0m                                 Traceback (most recent call last)",
            "\u001b[0;32m<ipython-input-22-67da49b9f1f1>\u001b[0m in \u001b[0;36m<module>\u001b[0;34m\u001b[0m\n\u001b[1;32m      4\u001b[0m \u001b[0;32mfor\u001b[0m \u001b[0mx\u001b[0m \u001b[0;32min\u001b[0m \u001b[0mrange\u001b[0m\u001b[0;34m(\u001b[0m\u001b[0;36m0\u001b[0m\u001b[0;34m,\u001b[0m\u001b[0mlength\u001b[0m\u001b[0;34m)\u001b[0m\u001b[0;34m:\u001b[0m\u001b[0;34m\u001b[0m\u001b[0;34m\u001b[0m\u001b[0m\n\u001b[1;32m      5\u001b[0m   \u001b[0mheading\u001b[0m\u001b[0;34m=\u001b[0m\u001b[0mdata\u001b[0m\u001b[0;34m[\u001b[0m\u001b[0;34m'title'\u001b[0m\u001b[0;34m]\u001b[0m\u001b[0;34m[\u001b[0m\u001b[0mx\u001b[0m\u001b[0;34m]\u001b[0m\u001b[0;34m\u001b[0m\u001b[0;34m\u001b[0m\u001b[0m\n\u001b[0;32m----> 6\u001b[0;31m   \u001b[0;32mif\u001b[0m \u001b[0mkeyword\u001b[0m \u001b[0;32min\u001b[0m \u001b[0mheading\u001b[0m\u001b[0;34m:\u001b[0m\u001b[0;34m\u001b[0m\u001b[0;34m\u001b[0m\u001b[0m\n\u001b[0m\u001b[1;32m      7\u001b[0m     \u001b[0mflag\u001b[0m\u001b[0;34m=\u001b[0m\u001b[0;36m1\u001b[0m\u001b[0;34m\u001b[0m\u001b[0;34m\u001b[0m\u001b[0m\n\u001b[1;32m      8\u001b[0m   \u001b[0;32melse\u001b[0m\u001b[0;34m:\u001b[0m\u001b[0;34m\u001b[0m\u001b[0;34m\u001b[0m\u001b[0m\n",
            "\u001b[0;31mTypeError\u001b[0m: argument of type 'float' is not iterable"
          ]
        }
      ]
    },
    {
      "cell_type": "code",
      "source": [
        "def keywordflag(keyword):\n",
        "  length=len(data)\n",
        "  keyword_flag=[]\n",
        "  for x in range(0,10):\n",
        "    heading=data['title'][x]\n",
        "    try:\n",
        "        if keyword in heading:\n",
        "          flag=1\n",
        "        else:\n",
        "          flag=0\n",
        "    except:\n",
        "      flag=0\n",
        "    keyword_flag.append(flag)\n",
        "  return keyword_flag\n",
        "keywordflag=keywordflag('murder')\n"
      ],
      "metadata": {
        "id": "bKngiD24yYRN"
      },
      "execution_count": null,
      "outputs": []
    },
    {
      "cell_type": "markdown",
      "source": [
        "**creating columns in data dataframes**"
      ],
      "metadata": {
        "id": "dR6mdeYz8wTJ"
      }
    },
    {
      "cell_type": "code",
      "source": [
        "data['keyword_flag']=pd.Series(keywordflag)"
      ],
      "metadata": {
        "id": "6knYH0pUyYTz"
      },
      "execution_count": null,
      "outputs": []
    },
    {
      "cell_type": "markdown",
      "source": [
        "**SentimentIntensityAnalyzer**"
      ],
      "metadata": {
        "id": "Uu7UZVN6EJjE"
      }
    },
    {
      "cell_type": "code",
      "source": [
        "sent_int=SentimentIntensityAnalyzer()\n",
        "text=data['title'][15]\n",
        "sent=sent_int.polarity_scores(text)\n"
      ],
      "metadata": {
        "id": "wp4Le3L3yYV6"
      },
      "execution_count": null,
      "outputs": []
    },
    {
      "cell_type": "code",
      "source": [
        "neg=sent['neg']\n",
        "pos=sent['pos']\n",
        "neu=sent['neu']"
      ],
      "metadata": {
        "id": "vaIVaw5dyYZk"
      },
      "execution_count": null,
      "outputs": []
    },
    {
      "cell_type": "markdown",
      "source": [
        "**Adding for loop for sentiment Analysis**"
      ],
      "metadata": {
        "id": "-QSc6k6GHTsg"
      }
    },
    {
      "cell_type": "code",
      "source": [
        "title_neg_sentiment=[]\n",
        "title_pos_sentiment=[]\n",
        "title_neu_sentiment=[]\n",
        "length=len(data)\n",
        "for x in range(0,length):\n",
        "  try:\n",
        "    text=data['title'][x]\n",
        "    sent_int=SentimentIntensityAnalyzer()\n",
        "    sent=sent_int.polarity_scores(text)\n",
        "    neg=sent['neg']\n",
        "    pos=sent['pos']\n",
        "    neu=sent['neu']\n",
        "  except:\n",
        "    neg=0\n",
        "    pos=0\n",
        "    neu=0\n",
        "  title_neg_sentiment.append(neg)\n",
        "  title_pos_sentiment.append(pos)\n",
        "  title_neu_sentiment.append(neu)"
      ],
      "metadata": {
        "id": "I395Ad_Jqt6k"
      },
      "execution_count": null,
      "outputs": []
    },
    {
      "cell_type": "code",
      "source": [
        "title_neg_sentiment=pd.Series(title_neg_sentiment)\n",
        "title_pos_sentiment=pd.Series(title_pos_sentiment)\n",
        "title_neu_sentiment=pd.Series(title_neu_sentiment)"
      ],
      "metadata": {
        "id": "HuaWuCvnqt8i"
      },
      "execution_count": null,
      "outputs": []
    },
    {
      "cell_type": "markdown",
      "source": [
        "**Adding columns in data frames**"
      ],
      "metadata": {
        "id": "Rijl_JJ_MbsX"
      }
    },
    {
      "cell_type": "code",
      "source": [
        "data['title_neg_sentiment']=title_neg_sentiment\n",
        "data['title_pos_sentiment']=title_pos_sentiment\n",
        "data['title_neu_sentiment']=title_neu_sentiment"
      ],
      "metadata": {
        "id": "a3x2elbVqt-5"
      },
      "execution_count": null,
      "outputs": []
    },
    {
      "cell_type": "markdown",
      "source": [
        "**Writing the data**"
      ],
      "metadata": {
        "id": "fUXjPvuCNpXO"
      }
    },
    {
      "cell_type": "code",
      "source": [
        "data.to_excel('blogme_clean.xlsx',sheet_name='blogmedata',index=False)"
      ],
      "metadata": {
        "id": "jBfvGOu-quBb"
      },
      "execution_count": null,
      "outputs": []
    },
    {
      "cell_type": "code",
      "source": [],
      "metadata": {
        "id": "bgRgSHHXNvBs"
      },
      "execution_count": null,
      "outputs": []
    },
    {
      "cell_type": "code",
      "source": [],
      "metadata": {
        "id": "eG-CAuUsNvE0"
      },
      "execution_count": null,
      "outputs": []
    },
    {
      "cell_type": "code",
      "source": [],
      "metadata": {
        "id": "BFSorkPhquGG"
      },
      "execution_count": null,
      "outputs": []
    }
  ]
}